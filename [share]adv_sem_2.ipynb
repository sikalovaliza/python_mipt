{
  "nbformat": 4,
  "nbformat_minor": 0,
  "metadata": {
    "colab": {
      "provenance": [],
      "include_colab_link": true
    },
    "kernelspec": {
      "name": "python3",
      "display_name": "Python 3"
    },
    "language_info": {
      "name": "python"
    }
  },
  "cells": [
    {
      "cell_type": "markdown",
      "metadata": {
        "id": "view-in-github",
        "colab_type": "text"
      },
      "source": [
        "<a href=\"https://colab.research.google.com/github/sikalovaliza/python_mipt/blob/sem_2/%5Bshare%5Dadv_sem_2.ipynb\" target=\"_parent\"><img src=\"https://colab.research.google.com/assets/colab-badge.svg\" alt=\"Open In Colab\"/></a>"
      ]
    },
    {
      "cell_type": "markdown",
      "source": [
        "## Простые магические методы\n",
        "\n",
        "Все классы в Python3 неявно наследуются от базового класса `object`. Этот базовый класс предоставляет некоторые магические методы, которые доступны в любом Python объекте"
      ],
      "metadata": {
        "id": "M6dCN1z5l92u"
      }
    },
    {
      "cell_type": "code",
      "source": [
        "obj = object()\n",
        "print(dir(obj))"
      ],
      "metadata": {
        "colab": {
          "base_uri": "https://localhost:8080/"
        },
        "id": "1YpYc2OfnL5-",
        "outputId": "e630e905-9c1d-40f3-eab9-41b734d97a5e"
      },
      "execution_count": 1,
      "outputs": [
        {
          "output_type": "stream",
          "name": "stdout",
          "text": [
            "['__class__', '__delattr__', '__dir__', '__doc__', '__eq__', '__format__', '__ge__', '__getattribute__', '__gt__', '__hash__', '__init__', '__init_subclass__', '__le__', '__lt__', '__ne__', '__new__', '__reduce__', '__reduce_ex__', '__repr__', '__setattr__', '__sizeof__', '__str__', '__subclasshook__']\n"
          ]
        }
      ]
    },
    {
      "cell_type": "code",
      "source": [
        "print(dir(int))"
      ],
      "metadata": {
        "colab": {
          "base_uri": "https://localhost:8080/"
        },
        "id": "ty5TWStUxpnz",
        "outputId": "4a83dee3-bb57-49bd-c27e-7fa213fc0616"
      },
      "execution_count": null,
      "outputs": [
        {
          "output_type": "stream",
          "name": "stdout",
          "text": [
            "['__abs__', '__add__', '__and__', '__bool__', '__ceil__', '__class__', '__delattr__', '__dir__', '__divmod__', '__doc__', '__eq__', '__float__', '__floor__', '__floordiv__', '__format__', '__ge__', '__getattribute__', '__getnewargs__', '__gt__', '__hash__', '__index__', '__init__', '__init_subclass__', '__int__', '__invert__', '__le__', '__lshift__', '__lt__', '__mod__', '__mul__', '__ne__', '__neg__', '__new__', '__or__', '__pos__', '__pow__', '__radd__', '__rand__', '__rdivmod__', '__reduce__', '__reduce_ex__', '__repr__', '__rfloordiv__', '__rlshift__', '__rmod__', '__rmul__', '__ror__', '__round__', '__rpow__', '__rrshift__', '__rshift__', '__rsub__', '__rtruediv__', '__rxor__', '__setattr__', '__sizeof__', '__str__', '__sub__', '__subclasshook__', '__truediv__', '__trunc__', '__xor__', 'as_integer_ratio', 'bit_count', 'bit_length', 'conjugate', 'denominator', 'from_bytes', 'imag', 'numerator', 'real', 'to_bytes']\n"
          ]
        }
      ]
    },
    {
      "cell_type": "markdown",
      "source": [
        "`dir` возвращает атрибуты и методы объекта"
      ],
      "metadata": {
        "id": "EFYxjgEU-bqs"
      }
    },
    {
      "cell_type": "markdown",
      "source": [
        "### `__str__`, `__repr__`"
      ],
      "metadata": {
        "id": "eXom8lTxmMg9"
      }
    },
    {
      "cell_type": "code",
      "source": [
        "class MyClass1:\n",
        "  def __init__(self, name):\n",
        "    self.name = name"
      ],
      "metadata": {
        "id": "XnAffDQUWqMQ"
      },
      "execution_count": null,
      "outputs": []
    },
    {
      "cell_type": "markdown",
      "source": [
        "`__str__`, `__repr__` автоматически определяются"
      ],
      "metadata": {
        "id": "0hzLXHR8Ws4y"
      }
    },
    {
      "cell_type": "code",
      "source": [
        "inst = MyClass1('new_class')\n",
        "print(dir(inst))"
      ],
      "metadata": {
        "colab": {
          "base_uri": "https://localhost:8080/"
        },
        "id": "6QwKS_B1Ww2L",
        "outputId": "23150342-aeeb-4473-bf8c-2468a2f9cd1a"
      },
      "execution_count": null,
      "outputs": [
        {
          "output_type": "stream",
          "name": "stdout",
          "text": [
            "['__class__', '__delattr__', '__dict__', '__dir__', '__doc__', '__eq__', '__format__', '__ge__', '__getattribute__', '__gt__', '__hash__', '__init__', '__init_subclass__', '__le__', '__lt__', '__module__', '__ne__', '__new__', '__reduce__', '__reduce_ex__', '__repr__', '__setattr__', '__sizeof__', '__str__', '__subclasshook__', '__weakref__', 'name']\n"
          ]
        }
      ]
    },
    {
      "cell_type": "code",
      "source": [
        "inst.__repr__()"
      ],
      "metadata": {
        "colab": {
          "base_uri": "https://localhost:8080/",
          "height": 36
        },
        "id": "DINp31I6e5oN",
        "outputId": "c03df332-d80b-4bd2-d06d-dfe4a3ccb674"
      },
      "execution_count": null,
      "outputs": [
        {
          "output_type": "execute_result",
          "data": {
            "text/plain": [
              "'<__main__.MyClass1 object at 0x7aa8a9a3d4e0>'"
            ],
            "application/vnd.google.colaboratory.intrinsic+json": {
              "type": "string"
            }
          },
          "metadata": {},
          "execution_count": 69
        }
      ]
    },
    {
      "cell_type": "code",
      "source": [
        "inst.__str__()"
      ],
      "metadata": {
        "colab": {
          "base_uri": "https://localhost:8080/",
          "height": 36
        },
        "id": "n70ksuhpfKZ3",
        "outputId": "f2c1d166-6bd3-4036-887d-1c9f96169add"
      },
      "execution_count": null,
      "outputs": [
        {
          "output_type": "execute_result",
          "data": {
            "text/plain": [
              "'<__main__.MyClass1 object at 0x7aa8a9a3d4e0>'"
            ],
            "application/vnd.google.colaboratory.intrinsic+json": {
              "type": "string"
            }
          },
          "metadata": {},
          "execution_count": 70
        }
      ]
    },
    {
      "cell_type": "code",
      "source": [
        "class MyClass1:\n",
        "  def __init__(self, name):\n",
        "    self.name = name\n",
        "\n",
        "  def __repr__(self):\n",
        "    return f'MyClass1({self.name})'"
      ],
      "metadata": {
        "id": "qc-S_9Cie__L"
      },
      "execution_count": null,
      "outputs": []
    },
    {
      "cell_type": "code",
      "source": [
        "inst = MyClass1('new_class')\n",
        "inst.__repr__()"
      ],
      "metadata": {
        "colab": {
          "base_uri": "https://localhost:8080/",
          "height": 36
        },
        "id": "HFULpVKNfs0p",
        "outputId": "6e7c9041-a170-4128-931c-9d4fe34bf178"
      },
      "execution_count": null,
      "outputs": [
        {
          "output_type": "execute_result",
          "data": {
            "text/plain": [
              "'MyClass1(new_class)'"
            ],
            "application/vnd.google.colaboratory.intrinsic+json": {
              "type": "string"
            }
          },
          "metadata": {},
          "execution_count": 74
        }
      ]
    },
    {
      "cell_type": "markdown",
      "source": [
        "если явно задан `__repr__`, но не `__str__`, то используется `__repr__`"
      ],
      "metadata": {
        "id": "QMTx7neojAMb"
      }
    },
    {
      "cell_type": "code",
      "source": [
        "inst.__str__()"
      ],
      "metadata": {
        "colab": {
          "base_uri": "https://localhost:8080/",
          "height": 36
        },
        "id": "NpUwE4W2fyxg",
        "outputId": "77a4c7e1-b00a-4db2-9a76-f7aae5ad10cd"
      },
      "execution_count": null,
      "outputs": [
        {
          "output_type": "execute_result",
          "data": {
            "text/plain": [
              "'MyClass1(new_class)'"
            ],
            "application/vnd.google.colaboratory.intrinsic+json": {
              "type": "string"
            }
          },
          "metadata": {},
          "execution_count": 76
        }
      ]
    },
    {
      "cell_type": "code",
      "source": [
        "class MyClass1:\n",
        "  def __init__(self, name):\n",
        "    self.name = name\n",
        "\n",
        "  def __str__(self):\n",
        "    return f'name = {self.name}'"
      ],
      "metadata": {
        "id": "sPy9F3DJf3AZ"
      },
      "execution_count": null,
      "outputs": []
    },
    {
      "cell_type": "code",
      "source": [
        "inst = MyClass1('new_class')\n",
        "inst.__repr__()"
      ],
      "metadata": {
        "colab": {
          "base_uri": "https://localhost:8080/",
          "height": 36
        },
        "id": "IMMzJ5Tcf4Ra",
        "outputId": "3122438a-49ab-4f71-9026-fb851eb99ce8"
      },
      "execution_count": null,
      "outputs": [
        {
          "output_type": "execute_result",
          "data": {
            "text/plain": [
              "'<__main__.MyClass1 object at 0x7aa88d39dde0>'"
            ],
            "application/vnd.google.colaboratory.intrinsic+json": {
              "type": "string"
            }
          },
          "metadata": {},
          "execution_count": 83
        }
      ]
    },
    {
      "cell_type": "code",
      "source": [
        "inst.__str__()"
      ],
      "metadata": {
        "colab": {
          "base_uri": "https://localhost:8080/",
          "height": 36
        },
        "id": "8LWtUJw3gApC",
        "outputId": "3789d742-3a8f-4c8d-b97f-623b2fee606e"
      },
      "execution_count": null,
      "outputs": [
        {
          "output_type": "execute_result",
          "data": {
            "text/plain": [
              "'name = new_class'"
            ],
            "application/vnd.google.colaboratory.intrinsic+json": {
              "type": "string"
            }
          },
          "metadata": {},
          "execution_count": 82
        }
      ]
    },
    {
      "cell_type": "markdown",
      "source": [
        "### Задача\n",
        "Создайте класс `BankAccount` с атрибутами login и password. Реализуйте методы `__str__` и `__repr__` таким образом, чтобы оба из них выводили атрибуты экземпляра, но один из них скрывал пароль."
      ],
      "metadata": {
        "id": "elk4DA9GgcnK"
      }
    },
    {
      "cell_type": "code",
      "source": [
        "\"\"\"your code\"\"\"\n",
        "class BankAccount:\n",
        "  def __init__(self, login, password):\n",
        "    self.login = login\n",
        "    self.password = password\n",
        "\n",
        "  def __str__(self):\n",
        "    return f'login: {self.login} password: ****'\n",
        "\n",
        "  def __repr__(self):\n",
        "    return f'login: {self.login} password: {self.password}'"
      ],
      "metadata": {
        "id": "RBJX0wV8ZPEx"
      },
      "execution_count": 12,
      "outputs": []
    },
    {
      "cell_type": "code",
      "source": [
        "x = BankAccount('aaaa', '1234')\n",
        "x.__class__ == BankAccount"
      ],
      "metadata": {
        "colab": {
          "base_uri": "https://localhost:8080/"
        },
        "id": "252PgVb3lK5B",
        "outputId": "e3a396b9-c8e1-4887-8344-a312952104b9"
      },
      "execution_count": 13,
      "outputs": [
        {
          "output_type": "execute_result",
          "data": {
            "text/plain": [
              "True"
            ]
          },
          "metadata": {},
          "execution_count": 13
        }
      ]
    },
    {
      "cell_type": "code",
      "source": [
        " x.__dict__"
      ],
      "metadata": {
        "id": "Mio6hd07iqRQ",
        "outputId": "7218a410-66a9-4798-88be-be1b1b07054a",
        "colab": {
          "base_uri": "https://localhost:8080/"
        }
      },
      "execution_count": 14,
      "outputs": [
        {
          "output_type": "execute_result",
          "data": {
            "text/plain": [
              "{'login': 'aaaa', 'password': '1234'}"
            ]
          },
          "metadata": {},
          "execution_count": 14
        }
      ]
    },
    {
      "cell_type": "code",
      "source": [
        "print(x)"
      ],
      "metadata": {
        "id": "cZBkCX39bm98",
        "outputId": "6330648d-1e2b-4a75-8917-ce3950f1e293",
        "colab": {
          "base_uri": "https://localhost:8080/"
        }
      },
      "execution_count": 15,
      "outputs": [
        {
          "output_type": "stream",
          "name": "stdout",
          "text": [
            "login: aaaa password: ****\n"
          ]
        }
      ]
    },
    {
      "cell_type": "code",
      "source": [
        "x"
      ],
      "metadata": {
        "id": "Ted8snk4o8pM",
        "outputId": "281baacb-3696-4a00-8387-6f4a8efdfaeb",
        "colab": {
          "base_uri": "https://localhost:8080/"
        }
      },
      "execution_count": 16,
      "outputs": [
        {
          "output_type": "execute_result",
          "data": {
            "text/plain": [
              "login: aaaa password: 1234"
            ]
          },
          "metadata": {},
          "execution_count": 16
        }
      ]
    },
    {
      "cell_type": "code",
      "source": [
        "print(str(x))"
      ],
      "metadata": {
        "id": "dZEXZMGSn0DT",
        "outputId": "6654fa95-257c-4448-9865-f30f327bd1c9",
        "colab": {
          "base_uri": "https://localhost:8080/"
        }
      },
      "execution_count": 17,
      "outputs": [
        {
          "output_type": "stream",
          "name": "stdout",
          "text": [
            "login: aaaa password: ****\n"
          ]
        }
      ]
    },
    {
      "cell_type": "code",
      "source": [
        "print(repr(x))"
      ],
      "metadata": {
        "id": "3qitEo4gWODk",
        "outputId": "51d78693-4a06-49b7-adaa-a9f5375ba58f",
        "colab": {
          "base_uri": "https://localhost:8080/"
        }
      },
      "execution_count": 18,
      "outputs": [
        {
          "output_type": "stream",
          "name": "stdout",
          "text": [
            "login: aaaa password: 1234\n"
          ]
        }
      ]
    },
    {
      "cell_type": "code",
      "source": [
        "print(x.__str__())"
      ],
      "metadata": {
        "id": "9Awq0XgMlxS6",
        "outputId": "bfab4900-4519-41a6-c1b2-bd1e265d83c0",
        "colab": {
          "base_uri": "https://localhost:8080/"
        }
      },
      "execution_count": 20,
      "outputs": [
        {
          "output_type": "stream",
          "name": "stdout",
          "text": [
            "login: aaaa password: ****\n"
          ]
        }
      ]
    },
    {
      "cell_type": "code",
      "source": [
        "print(x.__repr__())"
      ],
      "metadata": {
        "id": "3XzmmmIQkyYi",
        "outputId": "cfed223a-4a3e-482f-fc92-e143e0beeb8a",
        "colab": {
          "base_uri": "https://localhost:8080/"
        }
      },
      "execution_count": 21,
      "outputs": [
        {
          "output_type": "stream",
          "name": "stdout",
          "text": [
            "login: aaaa password: 1234\n"
          ]
        }
      ]
    },
    {
      "cell_type": "code",
      "source": [
        "x.password.__str__()"
      ],
      "metadata": {
        "id": "q_nHAoeboKGG",
        "outputId": "4db23de1-87d2-4e4b-c859-c2aad9f8eaee",
        "colab": {
          "base_uri": "https://localhost:8080/",
          "height": 35
        }
      },
      "execution_count": 22,
      "outputs": [
        {
          "output_type": "execute_result",
          "data": {
            "text/plain": [
              "'1234'"
            ],
            "application/vnd.google.colaboratory.intrinsic+json": {
              "type": "string"
            }
          },
          "metadata": {},
          "execution_count": 22
        }
      ]
    },
    {
      "cell_type": "code",
      "source": [
        "print(f'{x}')"
      ],
      "metadata": {
        "id": "W2f6uZnzbcmd",
        "outputId": "420bff01-be7d-4ea5-8c4d-6eafdda590e8",
        "colab": {
          "base_uri": "https://localhost:8080/"
        }
      },
      "execution_count": 23,
      "outputs": [
        {
          "output_type": "stream",
          "name": "stdout",
          "text": [
            "login: aaaa password: ****\n"
          ]
        }
      ]
    },
    {
      "cell_type": "code",
      "source": [
        "\"This is my object: {}\".format(x)"
      ],
      "metadata": {
        "id": "nhSuhw8JZanL",
        "outputId": "28469e7f-3b47-43fa-e699-8cdfad32a353",
        "colab": {
          "base_uri": "https://localhost:8080/",
          "height": 35
        }
      },
      "execution_count": 24,
      "outputs": [
        {
          "output_type": "execute_result",
          "data": {
            "text/plain": [
              "'This is my object: login: aaaa password: ****'"
            ],
            "application/vnd.google.colaboratory.intrinsic+json": {
              "type": "string"
            }
          },
          "metadata": {},
          "execution_count": 24
        }
      ]
    },
    {
      "cell_type": "markdown",
      "source": [
        "Пример из существующей библиотеки"
      ],
      "metadata": {
        "id": "newTmd0CjWy0"
      }
    },
    {
      "cell_type": "code",
      "source": [
        "from datetime import datetime\n",
        "\n",
        "now = datetime.now()\n",
        "\n",
        "print(repr(now))\n",
        "print(str(now))\n",
        "print(now)"
      ],
      "metadata": {
        "colab": {
          "base_uri": "https://localhost:8080/"
        },
        "id": "Q4MxRJJMaavL",
        "outputId": "b3124121-2a7a-4d8b-ac44-f05ec7d00f15"
      },
      "execution_count": null,
      "outputs": [
        {
          "output_type": "stream",
          "name": "stdout",
          "text": [
            "datetime.datetime(2024, 9, 19, 4, 34, 50, 662768)\n",
            "2024-09-19 04:34:50.662768\n",
            "2024-09-19 04:34:50.662768\n"
          ]
        }
      ]
    },
    {
      "cell_type": "markdown",
      "source": [
        "Можно увидеть документацию: docstrings и другое"
      ],
      "metadata": {
        "id": "tx_Aet0FyZ_J"
      }
    },
    {
      "cell_type": "code",
      "source": [
        "help(datetime)"
      ],
      "metadata": {
        "colab": {
          "base_uri": "https://localhost:8080/"
        },
        "id": "VYkKaw-dj4ko",
        "outputId": "96cf8807-c540-449d-923f-7d3fd74d56a5"
      },
      "execution_count": null,
      "outputs": [
        {
          "output_type": "stream",
          "name": "stdout",
          "text": [
            "Help on class datetime in module datetime:\n",
            "\n",
            "class datetime(date)\n",
            " |  datetime(year, month, day[, hour[, minute[, second[, microsecond[,tzinfo]]]]])\n",
            " |  \n",
            " |  The year, month and day arguments are required. tzinfo may be None, or an\n",
            " |  instance of a tzinfo subclass. The remaining arguments may be ints.\n",
            " |  \n",
            " |  Method resolution order:\n",
            " |      datetime\n",
            " |      date\n",
            " |      builtins.object\n",
            " |  \n",
            " |  Methods defined here:\n",
            " |  \n",
            " |  __add__(self, value, /)\n",
            " |      Return self+value.\n",
            " |  \n",
            " |  __eq__(self, value, /)\n",
            " |      Return self==value.\n",
            " |  \n",
            " |  __ge__(self, value, /)\n",
            " |      Return self>=value.\n",
            " |  \n",
            " |  __getattribute__(self, name, /)\n",
            " |      Return getattr(self, name).\n",
            " |  \n",
            " |  __gt__(self, value, /)\n",
            " |      Return self>value.\n",
            " |  \n",
            " |  __hash__(self, /)\n",
            " |      Return hash(self).\n",
            " |  \n",
            " |  __le__(self, value, /)\n",
            " |      Return self<=value.\n",
            " |  \n",
            " |  __lt__(self, value, /)\n",
            " |      Return self<value.\n",
            " |  \n",
            " |  __ne__(self, value, /)\n",
            " |      Return self!=value.\n",
            " |  \n",
            " |  __radd__(self, value, /)\n",
            " |      Return value+self.\n",
            " |  \n",
            " |  __reduce__(...)\n",
            " |      __reduce__() -> (cls, state)\n",
            " |  \n",
            " |  __reduce_ex__(...)\n",
            " |      __reduce_ex__(proto) -> (cls, state)\n",
            " |  \n",
            " |  __repr__(self, /)\n",
            " |      Return repr(self).\n",
            " |  \n",
            " |  __rsub__(self, value, /)\n",
            " |      Return value-self.\n",
            " |  \n",
            " |  __str__(self, /)\n",
            " |      Return str(self).\n",
            " |  \n",
            " |  __sub__(self, value, /)\n",
            " |      Return self-value.\n",
            " |  \n",
            " |  astimezone(...)\n",
            " |      tz -> convert to local time in new timezone tz\n",
            " |  \n",
            " |  ctime(...)\n",
            " |      Return ctime() style string.\n",
            " |  \n",
            " |  date(...)\n",
            " |      Return date object with same year, month and day.\n",
            " |  \n",
            " |  dst(...)\n",
            " |      Return self.tzinfo.dst(self).\n",
            " |  \n",
            " |  isoformat(...)\n",
            " |      [sep] -> string in ISO 8601 format, YYYY-MM-DDT[HH[:MM[:SS[.mmm[uuu]]]]][+HH:MM].\n",
            " |      sep is used to separate the year from the time, and defaults to 'T'.\n",
            " |      The optional argument timespec specifies the number of additional terms\n",
            " |      of the time to include. Valid options are 'auto', 'hours', 'minutes',\n",
            " |      'seconds', 'milliseconds' and 'microseconds'.\n",
            " |  \n",
            " |  replace(...)\n",
            " |      Return datetime with new specified fields.\n",
            " |  \n",
            " |  time(...)\n",
            " |      Return time object with same time but with tzinfo=None.\n",
            " |  \n",
            " |  timestamp(...)\n",
            " |      Return POSIX timestamp as float.\n",
            " |  \n",
            " |  timetuple(...)\n",
            " |      Return time tuple, compatible with time.localtime().\n",
            " |  \n",
            " |  timetz(...)\n",
            " |      Return time object with same time and tzinfo.\n",
            " |  \n",
            " |  tzname(...)\n",
            " |      Return self.tzinfo.tzname(self).\n",
            " |  \n",
            " |  utcoffset(...)\n",
            " |      Return self.tzinfo.utcoffset(self).\n",
            " |  \n",
            " |  utctimetuple(...)\n",
            " |      Return UTC time tuple, compatible with time.localtime().\n",
            " |  \n",
            " |  ----------------------------------------------------------------------\n",
            " |  Class methods defined here:\n",
            " |  \n",
            " |  combine(...) from builtins.type\n",
            " |      date, time -> datetime with same date and time fields\n",
            " |  \n",
            " |  fromisoformat(...) from builtins.type\n",
            " |      string -> datetime from datetime.isoformat() output\n",
            " |  \n",
            " |  fromtimestamp(...) from builtins.type\n",
            " |      timestamp[, tz] -> tz's local time from POSIX timestamp.\n",
            " |  \n",
            " |  now(tz=None) from builtins.type\n",
            " |      Returns new datetime object representing current time local to tz.\n",
            " |      \n",
            " |        tz\n",
            " |          Timezone object.\n",
            " |      \n",
            " |      If no tz is specified, uses local timezone.\n",
            " |  \n",
            " |  strptime(...) from builtins.type\n",
            " |      string, format -> new datetime parsed from a string (like time.strptime()).\n",
            " |  \n",
            " |  utcfromtimestamp(...) from builtins.type\n",
            " |      Construct a naive UTC datetime from a POSIX timestamp.\n",
            " |  \n",
            " |  utcnow(...) from builtins.type\n",
            " |      Return a new datetime representing UTC day and time.\n",
            " |  \n",
            " |  ----------------------------------------------------------------------\n",
            " |  Static methods defined here:\n",
            " |  \n",
            " |  __new__(*args, **kwargs) from builtins.type\n",
            " |      Create and return a new object.  See help(type) for accurate signature.\n",
            " |  \n",
            " |  ----------------------------------------------------------------------\n",
            " |  Data descriptors defined here:\n",
            " |  \n",
            " |  fold\n",
            " |  \n",
            " |  hour\n",
            " |  \n",
            " |  microsecond\n",
            " |  \n",
            " |  minute\n",
            " |  \n",
            " |  second\n",
            " |  \n",
            " |  tzinfo\n",
            " |  \n",
            " |  ----------------------------------------------------------------------\n",
            " |  Data and other attributes defined here:\n",
            " |  \n",
            " |  max = datetime.datetime(9999, 12, 31, 23, 59, 59, 999999)\n",
            " |  \n",
            " |  min = datetime.datetime(1, 1, 1, 0, 0)\n",
            " |  \n",
            " |  resolution = datetime.timedelta(microseconds=1)\n",
            " |  \n",
            " |  ----------------------------------------------------------------------\n",
            " |  Methods inherited from date:\n",
            " |  \n",
            " |  __format__(...)\n",
            " |      Formats self with strftime.\n",
            " |  \n",
            " |  isocalendar(...)\n",
            " |      Return a named tuple containing ISO year, week number, and weekday.\n",
            " |  \n",
            " |  isoweekday(...)\n",
            " |      Return the day of the week represented by the date.\n",
            " |      Monday == 1 ... Sunday == 7\n",
            " |  \n",
            " |  strftime(...)\n",
            " |      format -> strftime() style string.\n",
            " |  \n",
            " |  toordinal(...)\n",
            " |      Return proleptic Gregorian ordinal.  January 1 of year 1 is day 1.\n",
            " |  \n",
            " |  weekday(...)\n",
            " |      Return the day of the week represented by the date.\n",
            " |      Monday == 0 ... Sunday == 6\n",
            " |  \n",
            " |  ----------------------------------------------------------------------\n",
            " |  Class methods inherited from date:\n",
            " |  \n",
            " |  fromisocalendar(...) from builtins.type\n",
            " |      int, int, int -> Construct a date from the ISO year, week number and weekday.\n",
            " |      \n",
            " |      This is the inverse of the date.isocalendar() function\n",
            " |  \n",
            " |  fromordinal(...) from builtins.type\n",
            " |      int -> date corresponding to a proleptic Gregorian ordinal.\n",
            " |  \n",
            " |  today(...) from builtins.type\n",
            " |      Current date or datetime:  same as self.__class__.fromtimestamp(time.time()).\n",
            " |  \n",
            " |  ----------------------------------------------------------------------\n",
            " |  Data descriptors inherited from date:\n",
            " |  \n",
            " |  day\n",
            " |  \n",
            " |  month\n",
            " |  \n",
            " |  year\n",
            "\n"
          ]
        }
      ]
    },
    {
      "cell_type": "markdown",
      "source": [
        "### `__len__`, `__call__`\n",
        "\n"
      ],
      "metadata": {
        "id": "-OgPUkEsl5RO"
      }
    },
    {
      "cell_type": "code",
      "source": [
        "class Sentence:\n",
        "    def __init__(self, text):\n",
        "        self.text = text\n",
        "        self.words = self.text.split()\n",
        "\n",
        "    def __len__(self):\n",
        "        return len(self.words)\n",
        "\n",
        "    def __call__(self, func):\n",
        "        return [func(w) for w in self.words]"
      ],
      "metadata": {
        "id": "QwpmeJXnoNL7"
      },
      "execution_count": 26,
      "outputs": []
    },
    {
      "cell_type": "code",
      "source": [
        "sentence = Sentence(\"Hello world!\")\n",
        "print(len(sentence))"
      ],
      "metadata": {
        "colab": {
          "base_uri": "https://localhost:8080/"
        },
        "id": "ujpNx2Vpu-j_",
        "outputId": "3d53d96b-cfed-4d57-e37d-01760b7d9f20"
      },
      "execution_count": 27,
      "outputs": [
        {
          "output_type": "stream",
          "name": "stdout",
          "text": [
            "2\n"
          ]
        }
      ]
    },
    {
      "cell_type": "code",
      "source": [
        "word_lengths = sentence(len)\n",
        "print(word_lengths)"
      ],
      "metadata": {
        "id": "7klsh2uAvCN5",
        "outputId": "405d5ad6-8b62-4be9-e68a-4744bcb7c1d2",
        "colab": {
          "base_uri": "https://localhost:8080/"
        }
      },
      "execution_count": 28,
      "outputs": [
        {
          "output_type": "stream",
          "name": "stdout",
          "text": [
            "[5, 6]\n"
          ]
        }
      ]
    },
    {
      "cell_type": "code",
      "source": [
        "sentence.__call__(str.upper)"
      ],
      "metadata": {
        "colab": {
          "base_uri": "https://localhost:8080/"
        },
        "id": "7XpVa-MUue21",
        "outputId": "cdc76692-e096-4de2-ed05-0befe1302f19"
      },
      "execution_count": null,
      "outputs": [
        {
          "output_type": "execute_result",
          "data": {
            "text/plain": [
              "['HELLO', 'WORLD!']"
            ]
          },
          "metadata": {},
          "execution_count": 51
        }
      ]
    },
    {
      "cell_type": "code",
      "source": [
        "sentence(str.upper)"
      ],
      "metadata": {
        "colab": {
          "base_uri": "https://localhost:8080/"
        },
        "id": "BBByIRXeuy_N",
        "outputId": "dea96d5a-f39c-4b78-e155-7c09ffac0189"
      },
      "execution_count": null,
      "outputs": [
        {
          "output_type": "execute_result",
          "data": {
            "text/plain": [
              "['HELLO', 'WORLD!']"
            ]
          },
          "metadata": {},
          "execution_count": 52
        }
      ]
    },
    {
      "cell_type": "markdown",
      "source": [
        "### Задача\n",
        "для класса BankAccount:\n",
        "1. Реализовать метод `__call__`\n",
        "\n",
        "  - Метод должен принимать один аргумент amount, который представляет сумму денег.\n",
        "  - При вызове экземпляра класса с помощью скобок (например, account(1000)), метод должен выводить сообщение о том, что пользователь с данным логином запросил операцию на сумму amount.\n",
        "  - Реализуйте проверку, что amount является положительным числом, и если это не так, выведите сообщение об ошибке.\n",
        "\n",
        "2. Реализовать метод `__len__`\n",
        "\n",
        "  - Метод должен возвращать длину пароля пользователя"
      ],
      "metadata": {
        "id": "9hFS7LySvHjO"
      }
    },
    {
      "cell_type": "code",
      "source": [
        "\"\"\"your code\"\"\"\n",
        "class BankAccount:\n",
        "  def __init__(self, login, password):\n",
        "    self.login = login\n",
        "    self.password = password\n",
        "\n",
        "  def __str__(self):\n",
        "    return f'login: {self.login} password: ****'\n",
        "\n",
        "  def __repr__(self):\n",
        "    return f'login: {self.login} password: {self.password}'\n",
        "\n",
        "  def __call__(self, amount):\n",
        "    if isinstance(amount, (int, float)):\n",
        "      if amount > 0:\n",
        "        print(f\"Пользователь {self.login} запросил операцию на сумму {amount}\")\n",
        "      else:\n",
        "        print(\"Сумма должна быть положительной\")\n",
        "    else:\n",
        "      print(\"Сумма должна быть числом\")\n",
        "\n",
        "  def __len__(self):\n",
        "    return len(self.password)"
      ],
      "metadata": {
        "id": "_WHIzk7bvG9H"
      },
      "execution_count": 33,
      "outputs": []
    },
    {
      "cell_type": "code",
      "source": [
        "# Создаем экземпляр класса\n",
        "account = BankAccount('user123', 'securepassword')"
      ],
      "metadata": {
        "id": "yX0_JTA9wqw0"
      },
      "execution_count": 34,
      "outputs": []
    },
    {
      "cell_type": "code",
      "source": [
        "# Выводим информацию об аккаунте\n",
        "print(account)"
      ],
      "metadata": {
        "id": "3-lmw1Law0dZ",
        "outputId": "e13be7d7-9314-4a76-84a5-01e977d7488f",
        "colab": {
          "base_uri": "https://localhost:8080/"
        }
      },
      "execution_count": 31,
      "outputs": [
        {
          "output_type": "stream",
          "name": "stdout",
          "text": [
            "login: user123 password: ****\n"
          ]
        }
      ]
    },
    {
      "cell_type": "code",
      "source": [
        "# Используем len()\n",
        "password_length = len(account)\n",
        "print(f\"Длина пароля: {password_length}\")"
      ],
      "metadata": {
        "id": "RSV6kk7Ww2bL",
        "outputId": "8b4882f3-7025-4c40-a3a2-be5b448927cf",
        "colab": {
          "base_uri": "https://localhost:8080/"
        }
      },
      "execution_count": 35,
      "outputs": [
        {
          "output_type": "stream",
          "name": "stdout",
          "text": [
            "Длина пароля: 14\n"
          ]
        }
      ]
    },
    {
      "cell_type": "code",
      "source": [
        "# Используем вызов экземпляра\n",
        "account(500)"
      ],
      "metadata": {
        "id": "gUbK46o7w50H",
        "outputId": "17f79d71-89d6-4066-e4a6-b096c2b579fc",
        "colab": {
          "base_uri": "https://localhost:8080/"
        }
      },
      "execution_count": 36,
      "outputs": [
        {
          "output_type": "stream",
          "name": "stdout",
          "text": [
            "Пользователь user123 запросил операцию на сумму 500\n"
          ]
        }
      ]
    },
    {
      "cell_type": "code",
      "source": [
        "# Проверка отрицательной суммы\n",
        "account(-200)  # Выводит: Ошибка: Сумма должна быть положительной"
      ],
      "metadata": {
        "id": "IDks16wGxArM",
        "outputId": "7cfa4ef7-a89d-4016-b307-37fadc032748",
        "colab": {
          "base_uri": "https://localhost:8080/"
        }
      },
      "execution_count": 37,
      "outputs": [
        {
          "output_type": "stream",
          "name": "stdout",
          "text": [
            "Сумма должна быть положительной\n"
          ]
        }
      ]
    },
    {
      "cell_type": "code",
      "source": [
        "# Проверка неверного типа аргумента\n",
        "account(\"сто\")  # Выводит: Ошибка: Сумма должна быть числом"
      ],
      "metadata": {
        "id": "34wC3WzixHpI",
        "outputId": "2380d533-4617-42b6-c6fe-60f775feae4a",
        "colab": {
          "base_uri": "https://localhost:8080/"
        }
      },
      "execution_count": 38,
      "outputs": [
        {
          "output_type": "stream",
          "name": "stdout",
          "text": [
            "Сумма должна быть числом\n"
          ]
        }
      ]
    },
    {
      "cell_type": "markdown",
      "source": [
        "### `__add__`, `__sub__`, `__mul__`, `__truediv__`\n",
        "\n"
      ],
      "metadata": {
        "id": "gow8fCmQ0Gte"
      }
    },
    {
      "cell_type": "code",
      "source": [
        "class Number:\n",
        "    def __init__(self, value):\n",
        "        self.value = value\n",
        "\n",
        "    def __add__(self, other):\n",
        "        \"\"\"Метод для операции сложения (+)\"\"\"\n",
        "        if isinstance(other, Number):\n",
        "            return Number(self.value + other.value)\n",
        "        return NotImplemented\n",
        "\n",
        "    def __sub__(self, other):\n",
        "        \"\"\"Метод для операции вычитания (-)\"\"\"\n",
        "        if isinstance(other, Number):\n",
        "            return Number(self.value - other.value)\n",
        "        return NotImplemented\n",
        "\n",
        "    def __mul__(self, other):\n",
        "        \"\"\"Метод для операции умножения (*)\"\"\"\n",
        "        if isinstance(other, Number):\n",
        "            return Number(self.value * other.value)\n",
        "        return NotImplemented\n",
        "\n",
        "    def __truediv__(self, other):\n",
        "        \"\"\"Метод для операции деления (/)\"\"\"\n",
        "        if isinstance(other, Number):\n",
        "            if other.value != 0:\n",
        "                return Number(self.value / other.value)\n",
        "            else:\n",
        "                raise ValueError(\"Деление на ноль!\")\n",
        "        return NotImplemented\n",
        "\n",
        "    def __repr__(self):\n",
        "        return f\"Number({self.value})\"\n",
        "\n",
        "\n",
        "class Text:\n",
        "    def __init__(self, content):\n",
        "        self.content = content\n",
        "\n",
        "    def __add__(self, other):\n",
        "        \"\"\"Переопределение операции сложения (+)\"\"\"\n",
        "        if isinstance(other, Text):\n",
        "            return Text(self.content + other.content)\n",
        "        return NotImplemented\n",
        "\n",
        "    def __sub__(self, other):\n",
        "        \"\"\"Переопределение операции вычитания (-)\"\"\"\n",
        "        if isinstance(other, Text):\n",
        "            # Например, удаляем подстроку other.content из self.content\n",
        "            new_content = self.content.replace(other.content, \"\")\n",
        "            return Text(new_content)\n",
        "        return NotImplemented\n",
        "\n",
        "    def __mul__(self, other):\n",
        "        \"\"\"Переопределение операции умножения (*)\"\"\"\n",
        "        if isinstance(other, int):\n",
        "            return Text(self.content * other)\n",
        "        return NotImplemented\n",
        "\n",
        "    def __truediv__(self, other):\n",
        "        \"\"\"Переопределение операции деления (/)\"\"\"\n",
        "        # Для строки операция деления не имеет смысла\n",
        "        return NotImplemented\n",
        "\n",
        "    def __repr__(self):\n",
        "        return f\"Text('{self.content}')\""
      ],
      "metadata": {
        "id": "XHip4azU5qic"
      },
      "execution_count": null,
      "outputs": []
    },
    {
      "cell_type": "code",
      "source": [
        "a = Number(10)\n",
        "b = Number(5)\n",
        "\n",
        "print(a + b)  # возвращает новый объект Number\n",
        "print(a.__add__(b))\n",
        "\n",
        "print(a - b)  # возвращает новый объект Number\n",
        "print(a.__sub__(b))\n",
        "\n",
        "print(a * b)  # возвращает новый объект Number\n",
        "print(a.__mul__(b))\n",
        "\n",
        "print(a / b)  # возвращает новый объект Number\n",
        "print(a.__truediv__(b))"
      ],
      "metadata": {
        "colab": {
          "base_uri": "https://localhost:8080/"
        },
        "id": "p6QjwmFn5uq1",
        "outputId": "f4135939-0327-4ab4-fdc3-f32414d9aec9"
      },
      "execution_count": null,
      "outputs": [
        {
          "output_type": "stream",
          "name": "stdout",
          "text": [
            "Number(15)\n",
            "Number(15)\n",
            "Number(5)\n",
            "Number(5)\n",
            "Number(50)\n",
            "Number(50)\n",
            "Number(2.0)\n",
            "Number(2.0)\n"
          ]
        }
      ]
    },
    {
      "cell_type": "code",
      "source": [
        "c = Text(\"Hello, \")\n",
        "d = Text(\"world!\")\n",
        "\n",
        "print(c + d)  # возвращает новый объект Text\n",
        "print(c.__add__(d))\n",
        "\n",
        "print(c - d)  # возвращает новый объект Text\n",
        "print(c.__sub__(d))\n",
        "\n",
        "print(c * 3)  # возвращает новый объект Text\n",
        "print(c.__mul__(3))"
      ],
      "metadata": {
        "colab": {
          "base_uri": "https://localhost:8080/"
        },
        "id": "dr-TXRZv6_Lr",
        "outputId": "7d6aa371-057f-4759-ff8d-885f7a6bef5e"
      },
      "execution_count": null,
      "outputs": [
        {
          "output_type": "stream",
          "name": "stdout",
          "text": [
            "Text('Hello, world!')\n",
            "Text('Hello, world!')\n",
            "Text('Hello, ')\n",
            "Text('Hello, ')\n",
            "Text('Hello, Hello, Hello, ')\n",
            "Text('Hello, Hello, Hello, ')\n"
          ]
        }
      ]
    },
    {
      "cell_type": "code",
      "source": [
        "print(c * b)\n",
        "print(c.__mul__(d))"
      ],
      "metadata": {
        "colab": {
          "base_uri": "https://localhost:8080/",
          "height": 158
        },
        "id": "Xf4m2nCa9qQ2",
        "outputId": "4700146c-2d54-45ba-bc95-840772a127f1"
      },
      "execution_count": null,
      "outputs": [
        {
          "output_type": "error",
          "ename": "TypeError",
          "evalue": "unsupported operand type(s) for *: 'Text' and 'Number'",
          "traceback": [
            "\u001b[0;31m---------------------------------------------------------------------------\u001b[0m",
            "\u001b[0;31mTypeError\u001b[0m                                 Traceback (most recent call last)",
            "\u001b[0;32m<ipython-input-117-4ca3a9b3c08a>\u001b[0m in \u001b[0;36m<cell line: 1>\u001b[0;34m()\u001b[0m\n\u001b[0;32m----> 1\u001b[0;31m \u001b[0mprint\u001b[0m\u001b[0;34m(\u001b[0m\u001b[0mc\u001b[0m \u001b[0;34m*\u001b[0m \u001b[0mb\u001b[0m\u001b[0;34m)\u001b[0m  \u001b[0;31m# возвращает новый объект Text\u001b[0m\u001b[0;34m\u001b[0m\u001b[0;34m\u001b[0m\u001b[0m\n\u001b[0m\u001b[1;32m      2\u001b[0m \u001b[0mprint\u001b[0m\u001b[0;34m(\u001b[0m\u001b[0mc\u001b[0m\u001b[0;34m.\u001b[0m\u001b[0m__mul__\u001b[0m\u001b[0;34m(\u001b[0m\u001b[0md\u001b[0m\u001b[0;34m)\u001b[0m\u001b[0;34m)\u001b[0m\u001b[0;34m\u001b[0m\u001b[0;34m\u001b[0m\u001b[0m\n",
            "\u001b[0;31mTypeError\u001b[0m: unsupported operand type(s) for *: 'Text' and 'Number'"
          ]
        }
      ]
    },
    {
      "cell_type": "code",
      "source": [
        "print(c / d)\n",
        "print(c.__truediv__(d))"
      ],
      "metadata": {
        "colab": {
          "base_uri": "https://localhost:8080/",
          "height": 158
        },
        "id": "2KYh0sJ29tYS",
        "outputId": "c94103ee-b2d8-42dc-d6ed-7307f91fd725"
      },
      "execution_count": null,
      "outputs": [
        {
          "output_type": "error",
          "ename": "TypeError",
          "evalue": "unsupported operand type(s) for /: 'Text' and 'Text'",
          "traceback": [
            "\u001b[0;31m---------------------------------------------------------------------------\u001b[0m",
            "\u001b[0;31mTypeError\u001b[0m                                 Traceback (most recent call last)",
            "\u001b[0;32m<ipython-input-119-84e404776390>\u001b[0m in \u001b[0;36m<cell line: 1>\u001b[0;34m()\u001b[0m\n\u001b[0;32m----> 1\u001b[0;31m \u001b[0mprint\u001b[0m\u001b[0;34m(\u001b[0m\u001b[0mc\u001b[0m \u001b[0;34m/\u001b[0m \u001b[0md\u001b[0m\u001b[0;34m)\u001b[0m  \u001b[0;31m# возвращает новый объект Text\u001b[0m\u001b[0;34m\u001b[0m\u001b[0;34m\u001b[0m\u001b[0m\n\u001b[0m\u001b[1;32m      2\u001b[0m \u001b[0mprint\u001b[0m\u001b[0;34m(\u001b[0m\u001b[0mc\u001b[0m\u001b[0;34m.\u001b[0m\u001b[0m__truediv__\u001b[0m\u001b[0;34m(\u001b[0m\u001b[0md\u001b[0m\u001b[0;34m)\u001b[0m\u001b[0;34m)\u001b[0m\u001b[0;34m\u001b[0m\u001b[0;34m\u001b[0m\u001b[0m\n",
            "\u001b[0;31mTypeError\u001b[0m: unsupported operand type(s) for /: 'Text' and 'Text'"
          ]
        }
      ]
    },
    {
      "cell_type": "markdown",
      "source": [
        "### Задача\n",
        "расширить функциональность для класса `BankAccount`, добавив поддержку арифметических операций путем реализации специальных методов:\n",
        "\n",
        "- `__add__`: Для сложения двух счетов (например, объединение балансов).\n",
        "- `__sub__`: Для вычитания суммы из счета (например, снятие средств).\n",
        "- `__mul__`: Для умножения баланса на коэффициент (например, начисление процентов).\n",
        "- `__truediv__`: Для деления баланса на количество частей (например, распределение средств между счетами)."
      ],
      "metadata": {
        "id": "mW71LrwD6WsG"
      }
    },
    {
      "cell_type": "markdown",
      "source": [],
      "metadata": {
        "id": "ZGU1HWms_08E"
      }
    },
    {
      "cell_type": "code",
      "source": [
        "\"\"\"your code\"\"\""
      ],
      "metadata": {
        "id": "jBw98Yek_vtX"
      },
      "execution_count": null,
      "outputs": []
    },
    {
      "cell_type": "code",
      "source": [
        "# # Создаем два банковских счета\n",
        "# account1 = BankAccount('user123', 'securepassword', 1000)\n",
        "# account2 = BankAccount('user456', 'anotherpass', 500)\n",
        "\n",
        "# # Выводим информацию о счетах\n",
        "# print(account1)\n",
        "# print(account2)"
      ],
      "metadata": {
        "id": "HwBBoXXxAXle"
      },
      "execution_count": null,
      "outputs": []
    },
    {
      "cell_type": "code",
      "source": [
        "# # Сложение счетов\n",
        "# combined_account = account1 + account2\n",
        "# print(combined_account)"
      ],
      "metadata": {
        "id": "bOv4CGTOAfkO"
      },
      "execution_count": null,
      "outputs": []
    },
    {
      "cell_type": "code",
      "source": [
        "# # Попытка сложить счет с не-счетом\n",
        "# result = account1 + 100"
      ],
      "metadata": {
        "id": "WvjYzEORBU_G"
      },
      "execution_count": null,
      "outputs": []
    },
    {
      "cell_type": "code",
      "source": [
        "# # Вычитание суммы из счета\n",
        "# account1 - 200"
      ],
      "metadata": {
        "id": "HpOUZrfTAivA"
      },
      "execution_count": null,
      "outputs": []
    },
    {
      "cell_type": "code",
      "source": [
        "# account1"
      ],
      "metadata": {
        "id": "1OuNvc8TAoQJ"
      },
      "execution_count": null,
      "outputs": []
    },
    {
      "cell_type": "code",
      "source": [
        "# # Попытка вычесть больше, чем есть на счете\n",
        "# account1 - 1000"
      ],
      "metadata": {
        "id": "_Epc8rPmA0Rf"
      },
      "execution_count": null,
      "outputs": []
    },
    {
      "cell_type": "code",
      "source": [
        "# # Умножение баланса на коэффициент\n",
        "# interest_account = account2 * 1.05\n",
        "# print(interest_account)"
      ],
      "metadata": {
        "id": "CaU_Gl8tA49O"
      },
      "execution_count": null,
      "outputs": []
    },
    {
      "cell_type": "code",
      "source": [
        "# # Деление баланса на делитель\n",
        "# split_account = combined_account / 3\n",
        "# print(split_account)"
      ],
      "metadata": {
        "id": "l1rKuVu5A8d6"
      },
      "execution_count": null,
      "outputs": []
    },
    {
      "cell_type": "code",
      "source": [
        "# # Попытка деления на ноль\n",
        "# split_account = combined_account / 0\n",
        "# # Output: Ошибка: Деление на ноль невозможно."
      ],
      "metadata": {
        "id": "BhwOtkbjBJ6o"
      },
      "execution_count": null,
      "outputs": []
    },
    {
      "cell_type": "markdown",
      "source": [
        "## @classmethod"
      ],
      "metadata": {
        "id": "0Mis5Z41umvH"
      }
    },
    {
      "cell_type": "markdown",
      "source": [
        "Методы класса работают с самим классом, а не с конкретным экземпляром. Они определяются с помощью декоратора `@classmethod` и принимают в качестве первого параметра ссылку на класс `cls`, а не на экземпляр `self`. Это позволяет методам класса обращаться к атрибутам класса и изменять их."
      ],
      "metadata": {
        "id": "7_MUFUC1us-1"
      }
    },
    {
      "cell_type": "code",
      "source": [
        "class Car:\n",
        "    # Class attributes\n",
        "    wheels = 4\n",
        "    total_cars = 0\n",
        "    instances = {}\n",
        "\n",
        "    def __init__(self, model, color):\n",
        "        self.model = model\n",
        "        self.color = color\n",
        "        Car.total_cars += 1\n",
        "        Car.instances[Car.total_cars] = self\n",
        "\n",
        "    def display_model(self):\n",
        "        print(f\"Model: {self.model}\")\n",
        "\n",
        "    @classmethod\n",
        "    def change_wheels(cls, number):  # class method\n",
        "        cls.wheels = number\n",
        "\n",
        "    @classmethod\n",
        "    def from_string(cls, car_string):\n",
        "        model, color = car_string.split(' ')\n",
        "        return cls(model, color)\n",
        "\n",
        "    @classmethod\n",
        "    def get_total_cars(cls):\n",
        "        return cls.total_cars"
      ],
      "metadata": {
        "id": "89TToMPFusFi"
      },
      "execution_count": 39,
      "outputs": []
    },
    {
      "cell_type": "markdown",
      "source": [
        "### Cтроковое представление объекта\n",
        "- `<__main__.Car`: Указывает, что объект является экземпляром класса Car, определенного в модуле `__main__` (который представляет собой среду скрипта верхнего уровня).\n",
        "- `0x...........>`: Показывает адрес памяти, где хранится объект, представленный в шестнадцатеричном формате."
      ],
      "metadata": {
        "id": "UJi_v9EGxHiz"
      }
    },
    {
      "cell_type": "code",
      "source": [
        "car1 = Car(\"Toyota\", \"Blue\")\n",
        "print(car1)\n",
        "print(car1.__repr__())\n",
        "print(car1.__str__())"
      ],
      "metadata": {
        "colab": {
          "base_uri": "https://localhost:8080/"
        },
        "id": "nboWho4FvCih",
        "outputId": "0d196a98-0acc-4df8-bfd4-cd9387363731"
      },
      "execution_count": null,
      "outputs": [
        {
          "output_type": "stream",
          "name": "stdout",
          "text": [
            "<__main__.Car object at 0x785268316f50>\n",
            "<__main__.Car object at 0x785268316f50>\n",
            "<__main__.Car object at 0x785268316f50>\n"
          ]
        }
      ]
    },
    {
      "cell_type": "markdown",
      "source": [
        "### Уникальный идентификатор"
      ],
      "metadata": {
        "id": "lZsMAwau2d6E"
      }
    },
    {
      "cell_type": "code",
      "source": [
        "id(car1)  # уникальный идентификатор для car1. В CPython это число представляет адрес памяти объекта, отображается в десятичном формате."
      ],
      "metadata": {
        "colab": {
          "base_uri": "https://localhost:8080/"
        },
        "id": "q9eGdhTR4ZNS",
        "outputId": "c669a6f6-8792-4833-804d-e0c6d44b469d"
      },
      "execution_count": null,
      "outputs": [
        {
          "output_type": "execute_result",
          "data": {
            "text/plain": [
              "132295330721616"
            ]
          },
          "metadata": {},
          "execution_count": 83
        }
      ]
    },
    {
      "cell_type": "code",
      "source": [
        "print(hex(id(car1)))  # такой же id как в print(car1)\n",
        "print(car1)"
      ],
      "metadata": {
        "colab": {
          "base_uri": "https://localhost:8080/"
        },
        "id": "7c65sZGMwwgO",
        "outputId": "73ac9448-e95d-423a-dac1-bd49391f034c"
      },
      "execution_count": null,
      "outputs": [
        {
          "output_type": "stream",
          "name": "stdout",
          "text": [
            "0x785268316f50\n",
            "<__main__.Car object at 0x785268316f50>\n"
          ]
        }
      ]
    },
    {
      "cell_type": "markdown",
      "source": [
        "При переобъявлении объекта, выделяется новый адресс памяти"
      ],
      "metadata": {
        "id": "bSml0eNJ5Wik"
      }
    },
    {
      "cell_type": "code",
      "source": [
        "car1 = Car(\"Toyota\", \"Blue\")\n",
        "print(car1)"
      ],
      "metadata": {
        "colab": {
          "base_uri": "https://localhost:8080/"
        },
        "id": "smRXsTwaw_8l",
        "outputId": "e527aeec-e37f-427a-eda4-dee0bd0618e5"
      },
      "execution_count": null,
      "outputs": [
        {
          "output_type": "stream",
          "name": "stdout",
          "text": [
            "<__main__.Car object at 0x785268314a60>\n"
          ]
        }
      ]
    },
    {
      "cell_type": "markdown",
      "source": [
        "### Изменение атрибутов класса"
      ],
      "metadata": {
        "id": "LZc8fJUQfOLo"
      }
    },
    {
      "cell_type": "markdown",
      "source": [
        "Изменение атрибута в классе также изменит его для всех экземпляров, и нынешних тоже\n"
      ],
      "metadata": {
        "id": "s0E6BqlxvXSS"
      }
    },
    {
      "cell_type": "code",
      "source": [
        "car1.wheels"
      ],
      "metadata": {
        "colab": {
          "base_uri": "https://localhost:8080/"
        },
        "id": "cDqHFM6zvPA_",
        "outputId": "49b9174d-c2a7-4d2c-db56-cb27588eae15"
      },
      "execution_count": null,
      "outputs": [
        {
          "output_type": "execute_result",
          "data": {
            "text/plain": [
              "4"
            ]
          },
          "metadata": {},
          "execution_count": 86
        }
      ]
    },
    {
      "cell_type": "code",
      "source": [
        "Car.change_wheels(6)  # change a Class attributes"
      ],
      "metadata": {
        "id": "0rb-wxyPvTvY"
      },
      "execution_count": null,
      "outputs": []
    },
    {
      "cell_type": "code",
      "source": [
        "car1.wheels"
      ],
      "metadata": {
        "colab": {
          "base_uri": "https://localhost:8080/"
        },
        "id": "Gbc1MnfqvVJy",
        "outputId": "76a47270-94ac-40c0-d005-7bfaa004d2d4"
      },
      "execution_count": null,
      "outputs": [
        {
          "output_type": "execute_result",
          "data": {
            "text/plain": [
              "6"
            ]
          },
          "metadata": {},
          "execution_count": 88
        }
      ]
    },
    {
      "cell_type": "markdown",
      "source": [
        "### Создаём фабричные методы"
      ],
      "metadata": {
        "id": "sfQQSKy9fS7F"
      }
    },
    {
      "cell_type": "markdown",
      "source": [
        "Позволяют возвращать экземпляры класса, основываясь на входных данных."
      ],
      "metadata": {
        "id": "3FEjeVZLfXgU"
      }
    },
    {
      "cell_type": "code",
      "source": [
        "car2 = Car.from_string(\"Lada Yellow\")\n",
        "print(car2.model, car2.color)"
      ],
      "metadata": {
        "colab": {
          "base_uri": "https://localhost:8080/"
        },
        "id": "2d-8Wfl2fIe0",
        "outputId": "f2b07903-4eb5-4a44-a1ef-d2f6d9157b84"
      },
      "execution_count": null,
      "outputs": [
        {
          "output_type": "stream",
          "name": "stdout",
          "text": [
            "Lada Yellow\n"
          ]
        }
      ]
    },
    {
      "cell_type": "code",
      "source": [
        "car2.wheels"
      ],
      "metadata": {
        "colab": {
          "base_uri": "https://localhost:8080/"
        },
        "id": "vjj9PDKMj9Gx",
        "outputId": "dc4168db-32c9-482e-8c54-06883a30c095"
      },
      "execution_count": null,
      "outputs": [
        {
          "output_type": "execute_result",
          "data": {
            "text/plain": [
              "6"
            ]
          },
          "metadata": {},
          "execution_count": 90
        }
      ]
    },
    {
      "cell_type": "markdown",
      "source": [
        "### Доп.функциональность"
      ],
      "metadata": {
        "id": "kJHFQZUOgLuf"
      }
    },
    {
      "cell_type": "code",
      "source": [
        "Car.get_total_cars()"
      ],
      "metadata": {
        "colab": {
          "base_uri": "https://localhost:8080/"
        },
        "id": "bkveofRWgT23",
        "outputId": "6ffeaeb5-ec58-49e4-a0ce-3628bc69020d"
      },
      "execution_count": null,
      "outputs": [
        {
          "output_type": "execute_result",
          "data": {
            "text/plain": [
              "3"
            ]
          },
          "metadata": {},
          "execution_count": 91
        }
      ]
    },
    {
      "cell_type": "markdown",
      "source": [
        "### Непонятки"
      ],
      "metadata": {
        "id": "z7UDOph4jtop"
      }
    },
    {
      "cell_type": "code",
      "source": [
        "# create a new attribute in car1\n",
        "car1.wheels = 7\n",
        "car1.wheels"
      ],
      "metadata": {
        "colab": {
          "base_uri": "https://localhost:8080/"
        },
        "id": "NkuO_wqCjaUo",
        "outputId": "61341060-82b1-4d7d-9647-d2557f9b2381"
      },
      "execution_count": null,
      "outputs": [
        {
          "output_type": "execute_result",
          "data": {
            "text/plain": [
              "7"
            ]
          },
          "metadata": {},
          "execution_count": 92
        }
      ]
    },
    {
      "cell_type": "code",
      "source": [
        "car1.__dict__"
      ],
      "metadata": {
        "colab": {
          "base_uri": "https://localhost:8080/"
        },
        "id": "gvSvOrzZrYGg",
        "outputId": "7de1c814-d4ff-4bdd-d2eb-60a4db6a3704"
      },
      "execution_count": null,
      "outputs": [
        {
          "output_type": "execute_result",
          "data": {
            "text/plain": [
              "{'model': 'Toyota', 'color': 'Blue', 'wheels': 7}"
            ]
          },
          "metadata": {},
          "execution_count": 93
        }
      ]
    },
    {
      "cell_type": "code",
      "source": [
        "car1.__class__.wheels"
      ],
      "metadata": {
        "colab": {
          "base_uri": "https://localhost:8080/"
        },
        "id": "R59ShJPnrvT5",
        "outputId": "38e2bf7f-24e3-4687-b99b-8cb7abfcf446"
      },
      "execution_count": null,
      "outputs": [
        {
          "output_type": "execute_result",
          "data": {
            "text/plain": [
              "6"
            ]
          },
          "metadata": {},
          "execution_count": 97
        }
      ]
    },
    {
      "cell_type": "code",
      "source": [
        "car2.__dict__"
      ],
      "metadata": {
        "colab": {
          "base_uri": "https://localhost:8080/"
        },
        "id": "zgrLx3_2rk1B",
        "outputId": "daba35bb-60da-426a-a6de-6d0fa3f62682"
      },
      "execution_count": null,
      "outputs": [
        {
          "output_type": "execute_result",
          "data": {
            "text/plain": [
              "{'model': 'Lada', 'color': 'Yellow'}"
            ]
          },
          "metadata": {},
          "execution_count": 94
        }
      ]
    },
    {
      "cell_type": "code",
      "source": [
        "Car.change_wheels(6)  # change a Class attributes"
      ],
      "metadata": {
        "id": "xQBA0EybjdvH"
      },
      "execution_count": null,
      "outputs": []
    },
    {
      "cell_type": "code",
      "source": [
        "for n, inst in Car.instances.items():\n",
        "    print(f\"car{n} has {inst.wheels} wheels\")"
      ],
      "metadata": {
        "colab": {
          "base_uri": "https://localhost:8080/"
        },
        "id": "FYn060sGjhp4",
        "outputId": "8dd9320b-4c9d-42ee-d4f8-0540370f886a"
      },
      "execution_count": null,
      "outputs": [
        {
          "output_type": "stream",
          "name": "stdout",
          "text": [
            "car1 has 7 wheels\n",
            "car2 has 6 wheels\n"
          ]
        }
      ]
    },
    {
      "cell_type": "code",
      "source": [
        "car3 = Car(\"Haval\", \"Brown\")"
      ],
      "metadata": {
        "id": "WVljjKHEjoAp"
      },
      "execution_count": null,
      "outputs": []
    },
    {
      "cell_type": "code",
      "source": [
        "for n, inst in Car.instances.items():\n",
        "    print(f\"car{n} has {inst.wheels} wheels\")"
      ],
      "metadata": {
        "colab": {
          "base_uri": "https://localhost:8080/"
        },
        "id": "2cgL3UHcpXxZ",
        "outputId": "406362d5-5b22-4de2-cb96-f850014b85d1"
      },
      "execution_count": null,
      "outputs": [
        {
          "output_type": "stream",
          "name": "stdout",
          "text": [
            "car1 has 7 wheels\n",
            "car2 has 6 wheels\n",
            "car3 has 6 wheels\n"
          ]
        }
      ]
    },
    {
      "cell_type": "code",
      "source": [
        "Car.change_wheels(1)  # change a Class attributes"
      ],
      "metadata": {
        "id": "M5HSLPh1joad"
      },
      "execution_count": null,
      "outputs": []
    },
    {
      "cell_type": "code",
      "source": [
        "for n, inst in Car.instances.items():\n",
        "    print(f\"car{n} has {inst.wheels} wheels\")"
      ],
      "metadata": {
        "colab": {
          "base_uri": "https://localhost:8080/"
        },
        "id": "9M18F8JKkGSx",
        "outputId": "eee2a407-eed6-4142-ea8c-c89236be2145"
      },
      "execution_count": null,
      "outputs": [
        {
          "output_type": "stream",
          "name": "stdout",
          "text": [
            "car1 has 7 wheels\n",
            "car2 has 1 wheels\n",
            "car3 has 1 wheels\n"
          ]
        }
      ]
    },
    {
      "cell_type": "markdown",
      "source": [
        "### Задача"
      ],
      "metadata": {
        "id": "d8wQ87fpOpl2"
      }
    },
    {
      "cell_type": "markdown",
      "source": [
        " Создайте класс `Book`, который будет моделировать книгу в библиотечной системе. Класс должен использовать методы класса для управления общими атрибутами и предоставлять фабричные методы для удобного создания экземпляров.\n",
        "\n",
        " **Атрибуты класса:**\n",
        "- `total_books`: хранит общее количество созданных книг (начальное значение — 0).\n",
        "- `genres`: словарь, где ключ — жанр книги, а значение — количество книг этого жанра.\n",
        "\n",
        "**Атрибуты экземпляра:**\n",
        "- `title`: название книги.\n",
        "- `author`: автор книги.\n",
        "- `genre`: жанр книги.\n",
        "\n",
        "**Методы:**\n",
        "- `__init__`(self, title, author, genre): инициализирует экземпляр книги, увеличивает total_books на 1 и обновляет словарь genres.\n",
        "- `display_info(self)`: выводит информацию о книге в формате: \"{title}\" by {author} [{genre}].\n",
        "\n",
        "**Методы класса:**\n",
        "\n",
        "- `from_string(cls, book_str)`: принимает строку в формате \"title,author,genre\" и возвращает экземпляр Book.\n",
        "- `get_total_books(cls)`: возвращает общее количество книг.\n",
        "- `get_genre_count(cls, genre)`: возвращает количество книг заданного жанра.\n",
        "- `add_genre(cls, genre)`: добавляет новый жанр в словарь genres с начальным количеством 0, если такого жанра еще нет.\n",
        "\n",
        "Реализуйте метод `__repr__(self)` для класса Book, который будет возвращать строку вида: `Book(title=\"...\", author=\"...\", genre=\"...\")`."
      ],
      "metadata": {
        "id": "vqoMIvytOsHR"
      }
    },
    {
      "cell_type": "code",
      "source": [
        "\"\"\"your code\"\"\""
      ],
      "metadata": {
        "id": "ZSTrEFasP8u7"
      },
      "execution_count": null,
      "outputs": []
    },
    {
      "cell_type": "code",
      "source": [
        "# # Создание книг через конструктор\n",
        "# book1 = Book(\"1984\", \"Джордж Оруэлл\", \"Дистопия\")\n",
        "# book2 = Book(\"Преступление и наказание\", \"Фёдор Достоевский\", \"Роман\")"
      ],
      "metadata": {
        "id": "J_n50Q1sQAcH"
      },
      "execution_count": null,
      "outputs": []
    },
    {
      "cell_type": "code",
      "source": [
        "# # Создание книги через фабричный метод\n",
        "# book3 = Book.from_string(\"Мастер и Маргарита, Михаил Булгаков, Фантастика\")"
      ],
      "metadata": {
        "id": "up5DTtoAQFoG"
      },
      "execution_count": null,
      "outputs": []
    },
    {
      "cell_type": "code",
      "source": [
        "# # Вывод информации о книгах\n",
        "# book1.display_info()\n",
        "# book2.display_info()\n",
        "# book3.display_info()"
      ],
      "metadata": {
        "colab": {
          "base_uri": "https://localhost:8080/"
        },
        "id": "nzqb8XqNQKjt",
        "outputId": "0382d4c1-4528-442a-d148-d1b53acceede"
      },
      "execution_count": null,
      "outputs": [
        {
          "output_type": "stream",
          "name": "stdout",
          "text": [
            "\"1984\" by Джордж Оруэлл [Дистопия]\n",
            "\"Преступление и наказание\" by Фёдор Достоевский [Роман]\n",
            "\"Мастер и Маргарита\" by Михаил Булгаков [Фантастика]\n"
          ]
        }
      ]
    },
    {
      "cell_type": "code",
      "source": [
        "# # Получение общего количества книг\n",
        "# print(Book.get_total_books())"
      ],
      "metadata": {
        "id": "JsjhVzXQQOLu"
      },
      "execution_count": null,
      "outputs": []
    },
    {
      "cell_type": "code",
      "source": [
        "# # Получение количества книг по жанру\n",
        "# print(Book.get_genre_count(\"Роман\"))\n",
        "# print(Book.get_genre_count(\"Фантастика\"))"
      ],
      "metadata": {
        "id": "tzyNGFpsQe-v"
      },
      "execution_count": null,
      "outputs": []
    },
    {
      "cell_type": "code",
      "source": [
        "# # Добавление нового жанра и создание книги этого жанра\n",
        "# Book.add_genre(\"Триллер\")\n",
        "# book4 = Book(\"Шерлок Холмс\", \"Артур Конан Дойл\", \"Триллер\")\n",
        "# book4.display_info()"
      ],
      "metadata": {
        "id": "yuh7PcJ_Qk6M"
      },
      "execution_count": null,
      "outputs": []
    },
    {
      "cell_type": "code",
      "source": [
        "# # Проверка обновленного количества книг\n",
        "# print(Book.get_total_books())\n",
        "# print(Book.get_genre_count(\"Триллер\"))"
      ],
      "metadata": {
        "id": "-T2ZB35YQoHM"
      },
      "execution_count": null,
      "outputs": []
    },
    {
      "cell_type": "code",
      "source": [
        "# # Вывод представления объектов\n",
        "# print(repr(book1))\n",
        "# print(repr(book4))"
      ],
      "metadata": {
        "id": "8dA2464fQrZ8"
      },
      "execution_count": null,
      "outputs": []
    },
    {
      "cell_type": "markdown",
      "source": [
        "## Инкапсуляция"
      ],
      "metadata": {
        "id": "trQCth6GIa5o"
      }
    },
    {
      "cell_type": "code",
      "source": [
        "class BankAccount:\n",
        "    def __init__(self, owner, balance):\n",
        "        self.owner = owner  # Публичный атрибут\n",
        "        self.__balance = balance  # Приватный атрибут\n",
        "\n",
        "    def deposit(self, amount):\n",
        "        if amount > 0:\n",
        "            self.__balance += amount\n",
        "            print(f\"Deposited: {amount}\")\n",
        "        else:\n",
        "            print(\"Invalid deposit amount\")\n",
        "\n",
        "    def withdraw(self, amount):\n",
        "        if 0 < amount <= self.__balance:\n",
        "            self.__balance -= amount\n",
        "            print(f\"Withdrew: {amount}\")\n",
        "        else:\n",
        "            print(\"Invalid withdrawal amount or insufficient funds\")\n",
        "\n",
        "    def get_balance(self):\n",
        "        return self.__balance"
      ],
      "metadata": {
        "id": "wk4SnCIoIeaO"
      },
      "execution_count": null,
      "outputs": []
    },
    {
      "cell_type": "code",
      "source": [
        "account = BankAccount(\"John Doe\", 1000)  # Создание экземпляра класса\n",
        "\n",
        "# Взаимодействие с объектом через публичные методы\n",
        "account.deposit(500)\n",
        "account.withdraw(300)"
      ],
      "metadata": {
        "colab": {
          "base_uri": "https://localhost:8080/"
        },
        "id": "E9fc2t0qIku6",
        "outputId": "8285bd3b-20ce-44b7-c0f8-ca021639b06d"
      },
      "execution_count": null,
      "outputs": [
        {
          "output_type": "stream",
          "name": "stdout",
          "text": [
            "Deposited: 500\n",
            "Withdrew: 300\n"
          ]
        }
      ]
    },
    {
      "cell_type": "markdown",
      "source": [
        "**Защита данных**\n",
        "\n",
        "Использование приватного атрибута обеспечивает, что баланс счета можно изменять только через определенные методы (deposit и withdraw), что позволяет ввести дополнительные проверки и защиту от некорректного использования."
      ],
      "metadata": {
        "id": "tWh8SNo_JM-B"
      }
    },
    {
      "cell_type": "code",
      "source": [
        "print(account.__balance)  # Попытка доступа к приватному атрибуту извне"
      ],
      "metadata": {
        "colab": {
          "base_uri": "https://localhost:8080/",
          "height": 141
        },
        "id": "wR5MxZQkI1J-",
        "outputId": "67ee4825-d9fe-453e-efe3-eac5c7ee20ea"
      },
      "execution_count": null,
      "outputs": [
        {
          "output_type": "error",
          "ename": "AttributeError",
          "evalue": "'BankAccount' object has no attribute '__balance'",
          "traceback": [
            "\u001b[0;31m---------------------------------------------------------------------------\u001b[0m",
            "\u001b[0;31mAttributeError\u001b[0m                            Traceback (most recent call last)",
            "\u001b[0;32m<ipython-input-54-65b915104203>\u001b[0m in \u001b[0;36m<cell line: 1>\u001b[0;34m()\u001b[0m\n\u001b[0;32m----> 1\u001b[0;31m \u001b[0mprint\u001b[0m\u001b[0;34m(\u001b[0m\u001b[0maccount\u001b[0m\u001b[0;34m.\u001b[0m\u001b[0m__balance\u001b[0m\u001b[0;34m)\u001b[0m  \u001b[0;31m# Попытка доступа к приватному атрибуту извне\u001b[0m\u001b[0;34m\u001b[0m\u001b[0;34m\u001b[0m\u001b[0m\n\u001b[0m",
            "\u001b[0;31mAttributeError\u001b[0m: 'BankAccount' object has no attribute '__balance'"
          ]
        }
      ]
    },
    {
      "cell_type": "markdown",
      "source": [
        "**Как получить приватный атрибут?**\n",
        "\n",
        "Хотя Python скрывает приватные атрибуты с помощью `name mangling`, их можно получить, используя особый синтаксис. Однако это нарушает принципы инкапсуляции и является плохой практикой."
      ],
      "metadata": {
        "id": "3bowO5E0OBd2"
      }
    },
    {
      "cell_type": "code",
      "source": [
        "print(account._BankAccount__balance)  # Попытка доступа к приватному атрибуту извне"
      ],
      "metadata": {
        "colab": {
          "base_uri": "https://localhost:8080/"
        },
        "id": "JxkOjcgKI6MZ",
        "outputId": "5a5e65d6-c5cd-4c3c-a8c0-3893dcebc765"
      },
      "execution_count": null,
      "outputs": [
        {
          "output_type": "stream",
          "name": "stdout",
          "text": [
            "1200\n"
          ]
        }
      ]
    },
    {
      "cell_type": "markdown",
      "source": [
        "Этот код работает, потому что Python искажает имя приватного атрибута, добавляя к нему имя класса. Тем не менее, использовать это следует крайне осторожно и только в исключительных ситуациях."
      ],
      "metadata": {
        "id": "D9w5rmk1OYIu"
      }
    },
    {
      "cell_type": "code",
      "source": [
        "print(dir(account))"
      ],
      "metadata": {
        "colab": {
          "base_uri": "https://localhost:8080/"
        },
        "id": "_3aYTo75KFjx",
        "outputId": "9a9a6893-3192-4113-aa3d-83512705b126"
      },
      "execution_count": null,
      "outputs": [
        {
          "output_type": "stream",
          "name": "stdout",
          "text": [
            "['_BankAccount__balance', '__class__', '__delattr__', '__dict__', '__dir__', '__doc__', '__eq__', '__format__', '__ge__', '__getattribute__', '__gt__', '__hash__', '__init__', '__init_subclass__', '__le__', '__lt__', '__module__', '__ne__', '__new__', '__reduce__', '__reduce_ex__', '__repr__', '__setattr__', '__sizeof__', '__str__', '__subclasshook__', '__weakref__', 'deposit', 'get_balance', 'owner', 'withdraw']\n"
          ]
        }
      ]
    },
    {
      "cell_type": "code",
      "source": [
        "print(account.get_balance())"
      ],
      "metadata": {
        "id": "eeZVT8bxKg6D",
        "colab": {
          "base_uri": "https://localhost:8080/"
        },
        "outputId": "b1ff6101-de05-4082-de22-cccd8dcb0d72"
      },
      "execution_count": null,
      "outputs": [
        {
          "output_type": "stream",
          "name": "stdout",
          "text": [
            "1200\n"
          ]
        }
      ]
    },
    {
      "cell_type": "markdown",
      "source": [
        "### Задача:\n",
        "\n",
        "Вашей задачей является расширение класса BankAccount, добавив функциональность для ведения истории всех транзакций (депозиты и снятия средств). Каждая транзакция должна содержать информацию о типе операции (депозит или снятие), сумме, а также дате и времени проведения операции.\n",
        "\n",
        "**Требования**:\n",
        "\n",
        "- Добавьте приватный атрибут `__transactions`, который будет хранить список всех транзакций.\n",
        "- Измените методы `deposit` и `withdraw` так, чтобы каждая успешная операция добавлялась в историю транзакций.\n",
        "- Реализуйте метод `get_transaction_history()`, который выводит всю историю транзакций с датой и временем.\n",
        "- Добавьте метод `__str__`, чтобы при выводе объекта класса `BankAccount` отображалась основная информация о счете, включая текущий баланс.\n",
        "\n",
        "**Пример использования:**\n",
        "```python\n",
        "account = BankAccount(\"Иван Иванов\", 1000)\n",
        "account.deposit(500)\n",
        "account.withdraw(200)\n",
        "account.deposit(300)\n",
        "print(account)\n",
        "account.get_transaction_history()\n",
        "```\n",
        "**Ожидаемый вывод:**\n",
        "```yaml\n",
        "Владелец: Иван Иванов\n",
        "Текущий баланс: 1600\n",
        "\n",
        "История транзакций:\n",
        "2024-04-27 14:35:22 - Депозит: 500\n",
        "2024-04-27 14:36:10 - Снятие: 200\n",
        "2024-04-27 14:37:05 - Депозит: 300\n",
        "```\n"
      ],
      "metadata": {
        "id": "o8wlzj77YCRb"
      }
    },
    {
      "cell_type": "code",
      "source": [
        "\"\"\"your code\"\"\""
      ],
      "metadata": {
        "id": "nSebMXA6Kg-w"
      },
      "execution_count": null,
      "outputs": []
    },
    {
      "cell_type": "code",
      "source": [
        "# account = BankAccount(\"Иван Иванов\", 1000)\n",
        "# account.deposit(500)\n",
        "# account.withdraw(200)\n",
        "# account.deposit(300)\n",
        "# print(account)\n",
        "\n",
        "# account.get_transaction_history()"
      ],
      "metadata": {
        "id": "UkwlPxoBN8wg"
      },
      "execution_count": null,
      "outputs": []
    },
    {
      "cell_type": "markdown",
      "source": [
        "## Наследование"
      ],
      "metadata": {
        "id": "V84C64ieju2-"
      }
    },
    {
      "cell_type": "code",
      "source": [
        "class Animal:\n",
        "    def move(self):\n",
        "        print(\"Animal is moving\")\n",
        "\n",
        "class Dog(Animal):  # Одиночное наследование\n",
        "    def bark(self):\n",
        "        print(\"Dog barks\")\n",
        "\n",
        "class Bird(Animal):\n",
        "    def move(self):  # Переопределение метода\n",
        "        print(\"Bird is flying\")"
      ],
      "metadata": {
        "id": "FJPxZMb66Gqb"
      },
      "execution_count": null,
      "outputs": []
    },
    {
      "cell_type": "code",
      "source": [
        "dog = Dog()\n",
        "dog.move()  # Унаследованный метод от Animal\n",
        "dog.bark()  # Метод, специфичный для Dog\n",
        "\n",
        "bird = Bird()\n",
        "bird.move()  # Переопределенный метод в Bird"
      ],
      "metadata": {
        "colab": {
          "base_uri": "https://localhost:8080/"
        },
        "id": "lP2NM_DZ6HIC",
        "outputId": "a8fd4456-7e00-4fe2-ddc6-0eedaef9f009"
      },
      "execution_count": null,
      "outputs": [
        {
          "output_type": "stream",
          "name": "stdout",
          "text": [
            "Animal is moving\n",
            "Dog barks\n",
            "Bird is flying\n"
          ]
        }
      ]
    },
    {
      "cell_type": "code",
      "source": [
        "print(dir(dog))"
      ],
      "metadata": {
        "colab": {
          "base_uri": "https://localhost:8080/"
        },
        "id": "Ww7JVGDs6JBG",
        "outputId": "e27cc3c1-f392-4348-f4ea-d8cf8f61e69a"
      },
      "execution_count": null,
      "outputs": [
        {
          "output_type": "stream",
          "name": "stdout",
          "text": [
            "['__class__', '__delattr__', '__dict__', '__dir__', '__doc__', '__eq__', '__format__', '__ge__', '__getattribute__', '__gt__', '__hash__', '__init__', '__init_subclass__', '__le__', '__lt__', '__module__', '__ne__', '__new__', '__reduce__', '__reduce_ex__', '__repr__', '__setattr__', '__sizeof__', '__str__', '__subclasshook__', '__weakref__', 'bark', 'move']\n"
          ]
        }
      ]
    },
    {
      "cell_type": "code",
      "source": [
        "print(dir(bird))"
      ],
      "metadata": {
        "colab": {
          "base_uri": "https://localhost:8080/"
        },
        "id": "y-EbAapp6bmi",
        "outputId": "8eb66322-a420-4f2c-8e17-79e1332e9180"
      },
      "execution_count": null,
      "outputs": [
        {
          "output_type": "stream",
          "name": "stdout",
          "text": [
            "['__class__', '__delattr__', '__dict__', '__dir__', '__doc__', '__eq__', '__format__', '__ge__', '__getattribute__', '__gt__', '__hash__', '__init__', '__init_subclass__', '__le__', '__lt__', '__module__', '__ne__', '__new__', '__reduce__', '__reduce_ex__', '__repr__', '__setattr__', '__sizeof__', '__str__', '__subclasshook__', '__weakref__', 'move']\n"
          ]
        }
      ]
    },
    {
      "cell_type": "markdown",
      "source": [
        "**Ещё пример наследования:**\n",
        "\n",
        "Создим класс `SavingsAccount`, который наследуется от класса `BankAccount`. Дополнительно добавьте процентную ставку и метод для начисления процентов на текущий баланс."
      ],
      "metadata": {
        "id": "xHXMS3HDaCtg"
      }
    },
    {
      "cell_type": "code",
      "source": [
        "class BankAccount:\n",
        "    def __init__(self, owner, balance):\n",
        "        self.owner = owner  # Публичный атрибут\n",
        "        self.__balance = balance  # Приватный атрибут\n",
        "\n",
        "    def deposit(self, amount):\n",
        "        if amount > 0:\n",
        "            self.__balance += amount\n",
        "            print(f\"Внесено: {amount}\")\n",
        "        else:\n",
        "            print(\"Некорректная сумма вклада\")\n",
        "\n",
        "    def withdraw(self, amount):\n",
        "        if 0 < amount <= self.__balance:\n",
        "            self.__balance -= amount\n",
        "            print(f\"Снято: {amount}\")\n",
        "        else:\n",
        "            print(\"Некорректная сумма снятия или недостаточно средств\")\n",
        "\n",
        "    def get_balance(self):\n",
        "        return self.__balance\n",
        "\n",
        "    def __str__(self):\n",
        "        return f\"Владелец: {self.owner}\\nТекущий баланс: {self.__balance}\""
      ],
      "metadata": {
        "id": "UMVqAwo5Z9k6"
      },
      "execution_count": null,
      "outputs": []
    },
    {
      "cell_type": "code",
      "source": [
        "print(dir(BankAccount))"
      ],
      "metadata": {
        "colab": {
          "base_uri": "https://localhost:8080/"
        },
        "id": "Ra1vd07ca_Pn",
        "outputId": "426056f8-5cc2-4421-9743-6d35b5ace057"
      },
      "execution_count": null,
      "outputs": [
        {
          "output_type": "stream",
          "name": "stdout",
          "text": [
            "['__class__', '__delattr__', '__dict__', '__dir__', '__doc__', '__eq__', '__format__', '__ge__', '__getattribute__', '__gt__', '__hash__', '__init__', '__init_subclass__', '__le__', '__lt__', '__module__', '__ne__', '__new__', '__reduce__', '__reduce_ex__', '__repr__', '__setattr__', '__sizeof__', '__str__', '__subclasshook__', '__weakref__', 'deposit', 'get_balance', 'withdraw']\n"
          ]
        }
      ]
    },
    {
      "cell_type": "markdown",
      "source": [
        "Класс SavingsAccount наследуется от BankAccount\n",
        "\n",
        "В конструкторе `__init__` вызывается конструктор родительского класса с помощью `super().__init__(owner, balance)`."
      ],
      "metadata": {
        "id": "4CXaNPV5aoyX"
      }
    },
    {
      "cell_type": "code",
      "source": [
        "class SavingsAccount(BankAccount):\n",
        "    def __init__(self, owner, balance, interest_rate):\n",
        "        super().__init__(owner, balance)  # Вызов конструктора родительского класса\n",
        "        self.interest_rate = interest_rate  # Процентная ставка\n",
        "\n",
        "    def apply_interest(self):\n",
        "        interest = self.get_balance() * self.interest_rate / 100\n",
        "        self.deposit(interest)\n",
        "        print(f\"Начислено процентов: {interest}\")"
      ],
      "metadata": {
        "id": "tTk-ZGxSajRa"
      },
      "execution_count": null,
      "outputs": []
    },
    {
      "cell_type": "code",
      "source": [
        "print(dir(SavingsAccount))"
      ],
      "metadata": {
        "colab": {
          "base_uri": "https://localhost:8080/"
        },
        "id": "DmvGzbbXa9qj",
        "outputId": "7b677b9d-0b93-4c31-bcd4-732f4965e403"
      },
      "execution_count": null,
      "outputs": [
        {
          "output_type": "stream",
          "name": "stdout",
          "text": [
            "['__class__', '__delattr__', '__dict__', '__dir__', '__doc__', '__eq__', '__format__', '__ge__', '__getattribute__', '__gt__', '__hash__', '__init__', '__init_subclass__', '__le__', '__lt__', '__module__', '__ne__', '__new__', '__reduce__', '__reduce_ex__', '__repr__', '__setattr__', '__sizeof__', '__str__', '__subclasshook__', '__weakref__', 'apply_interest', 'deposit', 'get_balance', 'withdraw']\n"
          ]
        }
      ]
    },
    {
      "cell_type": "code",
      "source": [
        "savings = SavingsAccount(\"Анна Смирнова\", 2000, 5)  # 5% годовых\n",
        "print(savings)"
      ],
      "metadata": {
        "colab": {
          "base_uri": "https://localhost:8080/"
        },
        "id": "kojifIGccHcr",
        "outputId": "c4f9c3a8-376d-416c-9e43-687b86fe58b7"
      },
      "execution_count": null,
      "outputs": [
        {
          "output_type": "stream",
          "name": "stdout",
          "text": [
            "Владелец: Анна Смирнова\n",
            "Текущий баланс: 2000\n"
          ]
        }
      ]
    },
    {
      "cell_type": "code",
      "source": [
        "savings.deposit(500)\n",
        "savings.withdraw(300)\n",
        "print(savings)"
      ],
      "metadata": {
        "colab": {
          "base_uri": "https://localhost:8080/"
        },
        "id": "7SjtXfGYcX2_",
        "outputId": "50f861e1-4587-466e-9979-102f5554df41"
      },
      "execution_count": null,
      "outputs": [
        {
          "output_type": "stream",
          "name": "stdout",
          "text": [
            "Внесено: 500\n",
            "Снято: 300\n",
            "Владелец: Анна Смирнова\n",
            "Текущий баланс: 2200\n"
          ]
        }
      ]
    },
    {
      "cell_type": "code",
      "source": [
        "savings.apply_interest()\n",
        "print(savings)"
      ],
      "metadata": {
        "colab": {
          "base_uri": "https://localhost:8080/"
        },
        "id": "CHn1N8-FcZrj",
        "outputId": "2ab817a4-1005-4adf-d7ee-36da26bc08ce"
      },
      "execution_count": null,
      "outputs": [
        {
          "output_type": "stream",
          "name": "stdout",
          "text": [
            "Внесено: 110.0\n",
            "Начислено процентов: 110.0\n",
            "Владелец: Анна Смирнова\n",
            "Текущий баланс: 2310.0\n"
          ]
        }
      ]
    },
    {
      "cell_type": "markdown",
      "source": [
        "### Задача:\n",
        "Создание класса `CreditAccount`: Кредитный счет с лимитом\n",
        "\n",
        "\n",
        "Вам необходимо создать новый класс `CreditAccount`, который наследуется от класса `BankAccount`. Этот класс будет представлять кредитный счет, позволяющий клиенту уходить в минус до определенного кредитного лимита.\n",
        "\n",
        "**Требования:**\n",
        "\n",
        "- Добавьте атрибут `credit_limit` в класс `CreditAccount`, который устанавливается при создании счета и определяет максимальный размер кредитного лимита.\n",
        "\n",
        "- Переопределите метод `withdraw` таким образом, чтобы клиент мог снимать деньги даже при недостаточном балансе, но сумма задолженности не должна превышать кредитный лимит.\n",
        "\n",
        "- Реализуйте метод `get_available_credit()`, который возвращает доступный кредит (разницу между кредитным лимитом и текущей задолженностью).\n",
        "\n",
        "- Переопределите метод `__str__`, чтобы при выводе объекта отображалась информация о владельце, текущем балансе и кредитном лимите.\n",
        "\n",
        "\n",
        "**Пример использования:**\n",
        "```python\n",
        "account = CreditAccount(\"Алексей Смирнов\", 500, 1000)\n",
        "account.withdraw(1200)\n",
        "print(account)\n",
        "print(f\"Доступный кредит: {account.get_available_credit()}\")\n",
        "account.withdraw(500)\n",
        "print(account)\n",
        "```\n",
        "**Ожидаемый вывод:**\n",
        "```makefile\n",
        "Снято: 1200\n",
        "Владелец: Алексей Смирнов\n",
        "Текущий баланс: -700\n",
        "Кредитный лимит: 1000\n",
        "Доступный кредит: 300\n",
        "Некорректная сумма снятия или превышен кредитный лимит\n",
        "Владелец: Алексей Смирнов\n",
        "Текущий баланс: -700\n",
        "Кредитный лимит: 1000\n",
        "```\n",
        "\n"
      ],
      "metadata": {
        "id": "VC0FBcxlc5nb"
      }
    },
    {
      "cell_type": "code",
      "source": [
        "\"\"\"your code\"\"\""
      ],
      "metadata": {
        "id": "1W8r18xGc40R"
      },
      "execution_count": null,
      "outputs": []
    },
    {
      "cell_type": "code",
      "source": [
        "# # Пример использования\n",
        "# account = CreditAccount(\"Алексей Смирнов\", 500, 1000)\n",
        "# account.withdraw(1200)\n",
        "# print(account)"
      ],
      "metadata": {
        "id": "ZIjB_JrwehA_"
      },
      "execution_count": null,
      "outputs": []
    },
    {
      "cell_type": "code",
      "source": [
        "# print(f\"Доступный кредит: {account.get_available_credit()}\")"
      ],
      "metadata": {
        "id": "pg5Lzio4jUZE"
      },
      "execution_count": null,
      "outputs": []
    },
    {
      "cell_type": "code",
      "source": [
        "# account.withdraw(500)\n",
        "# print(account)"
      ],
      "metadata": {
        "id": "ONGaHL_pjqiP"
      },
      "execution_count": null,
      "outputs": []
    },
    {
      "cell_type": "markdown",
      "source": [
        "## Полиморфизм\n",
        "\n",
        "- одно из фундаментальных понятий ООП, которое позволяет объектам разных классов обрабатывать вызовы методов с одинаковым именем, но с различной реализацией. Это означает, что один и тот же интерфейс может быть реализован по-разному в разных классах.\n",
        "\n",
        "- обеспечивает гибкость и расширяемость кода, позволяя использовать объекты разных классов через единый интерфейс, не заботясь о том, как именно они реализуют свои методы."
      ],
      "metadata": {
        "id": "Aa6DswGQCkeM"
      }
    },
    {
      "cell_type": "code",
      "source": [
        "class Animal:\n",
        "    def make_sound(self):\n",
        "        print(\"Some generic sound\")\n",
        "\n",
        "class Dog(Animal):\n",
        "    def make_sound(self):  # Переопределение метода\n",
        "        print(\"Woof\")\n",
        "\n",
        "class Cat(Animal):\n",
        "    def make_sound(self):  # Переопределение метода\n",
        "        print(\"Meow\")"
      ],
      "metadata": {
        "id": "VN-pxLYXk53i"
      },
      "execution_count": null,
      "outputs": []
    },
    {
      "cell_type": "markdown",
      "source": [
        "Несмотря на то, что объекты разные, мы можем работать с ними через единый интерфейс."
      ],
      "metadata": {
        "id": "2K8sSk82lZkD"
      }
    },
    {
      "cell_type": "code",
      "source": [
        "# Полиморфное поведение\n",
        "def animal_sound(animal):\n",
        "    animal.make_sound()\n",
        "\n",
        "animal = Animal()\n",
        "dog = Dog()\n",
        "cat = Cat()\n",
        "\n",
        "animal_sound(animal)\n",
        "animal_sound(dog)\n",
        "animal_sound(cat)"
      ],
      "metadata": {
        "colab": {
          "base_uri": "https://localhost:8080/"
        },
        "id": "WDSKQbK-k8FJ",
        "outputId": "85f1e42b-bc4a-4fdb-a3d4-d8375b0c7e21"
      },
      "execution_count": null,
      "outputs": [
        {
          "output_type": "stream",
          "name": "stdout",
          "text": [
            "Some generic sound\n",
            "Woof\n",
            "Meow\n"
          ]
        }
      ]
    },
    {
      "cell_type": "markdown",
      "source": [
        "**Ещё пример:**\n",
        "- Разработайте систему обработки различных типов платежей.\n",
        "- Создайте базовый класс `Payment`, который определяет интерфейс для обработки платежа.\n",
        "- Реализуйте подклассы `CreditCardPayment`, `PayPalPayment` и `BitcoinPayment`, каждый из которых переопределяет метод `process_payment()` в соответствии со своими особенностями."
      ],
      "metadata": {
        "id": "autF7owXljEa"
      }
    },
    {
      "cell_type": "code",
      "source": [
        "class Payment:\n",
        "    def process_payment(self, amount):\n",
        "        print(f\"Начало обработки платежа на сумму {amount}\")\n",
        "\n",
        "class CreditCardPayment(Payment):\n",
        "    def validate_card(self):\n",
        "        print(\"Проверка кредитной карты...\")\n",
        "\n",
        "    def process_payment(self, amount):\n",
        "        self.validate_card()\n",
        "        print(f\"Обработка платежа кредитной картой на сумму {amount}\")\n",
        "\n",
        "class PayPalPayment(Payment):\n",
        "    def authenticate_user(self):\n",
        "        print(\"Аутентификация пользователя PayPal...\")\n",
        "\n",
        "    def process_payment(self, amount):\n",
        "        self.authenticate_user()\n",
        "        print(f\"Обработка платежа через PayPal на сумму {amount}\")\n",
        "\n",
        "class BitcoinPayment(Payment):\n",
        "    def process_payment(self, amount):\n",
        "        print(f\"Обработка платежа в Bitcoin на сумму {amount} BTC\")\n",
        "\n",
        "def process_payments(payments_list):\n",
        "    for payment in payments_list:\n",
        "        payment.process_payment(payment.amount)"
      ],
      "metadata": {
        "id": "hgCVjPRol2JE"
      },
      "execution_count": null,
      "outputs": []
    },
    {
      "cell_type": "code",
      "source": [
        "# Пример использования\n",
        "payments = [\n",
        "    CreditCardPayment(),\n",
        "    PayPalPayment(),\n",
        "    BitcoinPayment()\n",
        "]\n",
        "\n",
        "# Установка сумм для каждого платежа\n",
        "payments[0].amount = 100\n",
        "payments[1].amount = 200\n",
        "payments[2].amount = 0.005\n",
        "\n",
        "process_payments(payments)"
      ],
      "metadata": {
        "colab": {
          "base_uri": "https://localhost:8080/"
        },
        "id": "OsQ_MxrCl6Yw",
        "outputId": "32e4024e-19a0-4eed-984a-7fc1562ca6f0"
      },
      "execution_count": null,
      "outputs": [
        {
          "output_type": "stream",
          "name": "stdout",
          "text": [
            "Проверка кредитной карты...\n",
            "Обработка платежа кредитной картой на сумму 100\n",
            "Аутентификация пользователя PayPal...\n",
            "Обработка платежа через PayPal на сумму 200\n",
            "Обработка платежа в Bitcoin на сумму 0.005 BTC\n"
          ]
        }
      ]
    },
    {
      "cell_type": "markdown",
      "source": [
        "### Задание\n",
        "**Расширение системы обработки платежей: Комиссии и журнал транзакций**\n",
        "\n",
        "У вас есть базовый класс `Payment` и несколько подклассов, представляющих различные методы оплаты: `CreditCardPayment`, `PayPalPayment` и `BitcoinPayment`.\n",
        "\n",
        "**Требуется:**\n",
        "- Добавить атрибут amount в каждый класс оплаты, который устанавливается при создании объекта и представляет сумму платежа.\n",
        "\n",
        "- Реализовать систему комиссий, где для каждого метода оплаты устанавливается своя комиссия:\n",
        "\n",
        "  - `CreditCardPayment`: комиссия 2% от суммы платежа.\n",
        "  - `PayPalPayment`: комиссия 3% от суммы платежа.\n",
        "  - `BitcoinPayment`: фиксированная комиссия, например, 0.0005 BTC.\n",
        "\n",
        "- Переопределить метод `process_payment` в каждом подклассе так, чтобы он учитывал комиссию и выводил итоговую сумму к оплате.\n",
        "\n",
        "- Создать класс `TransactionLogger`, который будет вести журнал всех транзакций. Журнал должен содержать информацию о типе платежа, исходной сумме, комиссии и итоговой сумме к оплате.\n",
        "\n",
        "- Модифицировать функцию `process_payments` так, чтобы она использовала `TransactionLogger` для записи каждой транзакции.\n",
        "\n",
        "\n",
        "**Пример использования:**\n",
        "```python\n",
        "payments = [\n",
        "    CreditCardPayment(100),\n",
        "    PayPalPayment(200),\n",
        "    BitcoinPayment(0.01)\n",
        "]\n",
        "\n",
        "process_payments(payments)\n",
        "```\n",
        "\n",
        "**Ожидаемый вывод:**\n",
        "```makefile\n",
        "Проверка кредитной карты...\n",
        "Обработка платежа кредитной картой на сумму 100\n",
        "Комиссия: 2.0\n",
        "Итоговая сумма к оплате: 102.0\n",
        "\n",
        "Аутентификация пользователя PayPal...\n",
        "Обработка платежа через PayPal на сумму 200\n",
        "Комиссия: 6.0\n",
        "Итоговая сумма к оплате: 206.0\n",
        "\n",
        "Обработка платежа в Bitcoin на сумму 0.01 BTC\n",
        "Комиссия: 0.0005 BTC\n",
        "Итоговая сумма к оплате: 0.0105 BTC\n",
        "\n",
        "Журнал транзакций:\n",
        "- CreditCardPayment: сумма 100, комиссия 2.0, итог 102.0\n",
        "- PayPalPayment: сумма 200, комиссия 6.0, итог 206.0\n",
        "- BitcoinPayment: сумма 0.01 BTC, комиссия 0.0005 BTC, итог 0.0105 BTC\n",
        "```\n"
      ],
      "metadata": {
        "id": "lHl5trwSnPRi"
      }
    },
    {
      "cell_type": "code",
      "source": [
        "\"\"\"your code\"\"\""
      ],
      "metadata": {
        "id": "oWbnwV0EmqTH",
        "colab": {
          "base_uri": "https://localhost:8080/",
          "height": 36
        },
        "outputId": "d79c7700-34b2-4077-8d91-99cbc5899bf9"
      },
      "execution_count": null,
      "outputs": [
        {
          "output_type": "execute_result",
          "data": {
            "text/plain": [
              "'your code'"
            ],
            "application/vnd.google.colaboratory.intrinsic+json": {
              "type": "string"
            }
          },
          "metadata": {},
          "execution_count": 36
        }
      ]
    },
    {
      "cell_type": "code",
      "source": [
        "# payments = [\n",
        "#     CreditCardPayment(100),\n",
        "#     PayPalPayment(200),\n",
        "#     BitcoinPayment(0.01)\n",
        "# ]\n",
        "\n",
        "# process_payments(payments)"
      ],
      "metadata": {
        "id": "AjD1i303pixj"
      },
      "execution_count": null,
      "outputs": []
    },
    {
      "cell_type": "code",
      "source": [],
      "metadata": {
        "id": "wbPAh91IDSJo"
      },
      "execution_count": null,
      "outputs": []
    },
    {
      "cell_type": "code",
      "source": [],
      "metadata": {
        "id": "VZHkmJQT6yxz"
      },
      "execution_count": null,
      "outputs": []
    },
    {
      "cell_type": "code",
      "source": [],
      "metadata": {
        "id": "PfkPqZA163ex"
      },
      "execution_count": null,
      "outputs": []
    }
  ]
}